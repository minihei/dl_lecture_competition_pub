{
  "nbformat": 4,
  "nbformat_minor": 0,
  "metadata": {
    "colab": {
      "provenance": [],
      "gpuType": "T4",
      "authorship_tag": "ABX9TyO54VgbYsoJz/VwWehQPJ2n",
      "include_colab_link": true
    },
    "kernelspec": {
      "name": "python3",
      "display_name": "Python 3"
    },
    "language_info": {
      "name": "python"
    }
  },
  "cells": [
    {
      "cell_type": "markdown",
      "metadata": {
        "id": "view-in-github",
        "colab_type": "text"
      },
      "source": [
        "<a href=\"https://colab.research.google.com/github/minihei/dl_lecture_competition_pub/blob/MEG-competition/dl2024final_MEG.ipynb\" target=\"_parent\"><img src=\"https://colab.research.google.com/assets/colab-badge.svg\" alt=\"Open In Colab\"/></a>"
      ]
    },
    {
      "cell_type": "code",
      "source": [
        "from google.colab import drive\n",
        "drive.mount('/content/drive')"
      ],
      "metadata": {
        "colab": {
          "base_uri": "https://localhost:8080/"
        },
        "id": "BWq05Ba0IE4n",
        "outputId": "e00e103f-2949-4cab-e8ee-80e42474f828"
      },
      "execution_count": 1,
      "outputs": [
        {
          "output_type": "stream",
          "name": "stdout",
          "text": [
            "Drive already mounted at /content/drive; to attempt to forcibly remount, call drive.mount(\"/content/drive\", force_remount=True).\n"
          ]
        }
      ]
    },
    {
      "cell_type": "code",
      "source": [
        "%cd /content/drive/MyDrive/DL基礎2024/4_最終課題/git-fed/MEG-competition"
      ],
      "metadata": {
        "colab": {
          "base_uri": "https://localhost:8080/"
        },
        "id": "_lHBmjf3JJYG",
        "outputId": "5e1cf55f-8eff-44b9-e60a-4a356f6276ae"
      },
      "execution_count": 2,
      "outputs": [
        {
          "output_type": "stream",
          "name": "stdout",
          "text": [
            "/content/drive/MyDrive/DL基礎2024/4_最終課題/git-fed/MEG-competition\n"
          ]
        }
      ]
    },
    {
      "cell_type": "code",
      "source": [
        "!pip install -r requirements.txt"
      ],
      "metadata": {
        "colab": {
          "base_uri": "https://localhost:8080/"
        },
        "id": "B53GfsAsHA7m",
        "outputId": "3e7a5b98-dbc5-44b1-cace-dc47ecb2ebfb"
      },
      "execution_count": 4,
      "outputs": [
        {
          "output_type": "stream",
          "name": "stdout",
          "text": [
            "Requirement already satisfied: torch==2.0.1 in /usr/local/lib/python3.10/dist-packages (from -r requirements.txt (line 1)) (2.0.1)\n",
            "Requirement already satisfied: torchaudio in /usr/local/lib/python3.10/dist-packages (from -r requirements.txt (line 2)) (2.0.2)\n",
            "Requirement already satisfied: torchvision in /usr/local/lib/python3.10/dist-packages (from -r requirements.txt (line 3)) (0.15.2)\n",
            "Requirement already satisfied: torchmetrics==0.11.4 in /usr/local/lib/python3.10/dist-packages (from -r requirements.txt (line 4)) (0.11.4)\n",
            "Requirement already satisfied: einops in /usr/local/lib/python3.10/dist-packages (from -r requirements.txt (line 5)) (0.8.0)\n",
            "Requirement already satisfied: mne==1.6.0 in /usr/local/lib/python3.10/dist-packages (from -r requirements.txt (line 6)) (1.6.0)\n",
            "Requirement already satisfied: hydra-core==1.3.2 in /usr/local/lib/python3.10/dist-packages (from -r requirements.txt (line 7)) (1.3.2)\n",
            "Requirement already satisfied: wandb==0.15.0 in /usr/local/lib/python3.10/dist-packages (from -r requirements.txt (line 8)) (0.15.0)\n",
            "Requirement already satisfied: termcolor in /usr/local/lib/python3.10/dist-packages (from -r requirements.txt (line 9)) (2.4.0)\n",
            "Requirement already satisfied: filelock in /usr/local/lib/python3.10/dist-packages (from torch==2.0.1->-r requirements.txt (line 1)) (3.14.0)\n",
            "Requirement already satisfied: typing-extensions in /usr/local/lib/python3.10/dist-packages (from torch==2.0.1->-r requirements.txt (line 1)) (4.12.1)\n",
            "Requirement already satisfied: sympy in /usr/local/lib/python3.10/dist-packages (from torch==2.0.1->-r requirements.txt (line 1)) (1.12.1)\n",
            "Requirement already satisfied: networkx in /usr/local/lib/python3.10/dist-packages (from torch==2.0.1->-r requirements.txt (line 1)) (3.3)\n",
            "Requirement already satisfied: jinja2 in /usr/local/lib/python3.10/dist-packages (from torch==2.0.1->-r requirements.txt (line 1)) (3.1.4)\n",
            "Requirement already satisfied: nvidia-cuda-nvrtc-cu11==11.7.99 in /usr/local/lib/python3.10/dist-packages (from torch==2.0.1->-r requirements.txt (line 1)) (11.7.99)\n",
            "Requirement already satisfied: nvidia-cuda-runtime-cu11==11.7.99 in /usr/local/lib/python3.10/dist-packages (from torch==2.0.1->-r requirements.txt (line 1)) (11.7.99)\n",
            "Requirement already satisfied: nvidia-cuda-cupti-cu11==11.7.101 in /usr/local/lib/python3.10/dist-packages (from torch==2.0.1->-r requirements.txt (line 1)) (11.7.101)\n",
            "Requirement already satisfied: nvidia-cudnn-cu11==8.5.0.96 in /usr/local/lib/python3.10/dist-packages (from torch==2.0.1->-r requirements.txt (line 1)) (8.5.0.96)\n",
            "Requirement already satisfied: nvidia-cublas-cu11==11.10.3.66 in /usr/local/lib/python3.10/dist-packages (from torch==2.0.1->-r requirements.txt (line 1)) (11.10.3.66)\n",
            "Requirement already satisfied: nvidia-cufft-cu11==10.9.0.58 in /usr/local/lib/python3.10/dist-packages (from torch==2.0.1->-r requirements.txt (line 1)) (10.9.0.58)\n",
            "Requirement already satisfied: nvidia-curand-cu11==10.2.10.91 in /usr/local/lib/python3.10/dist-packages (from torch==2.0.1->-r requirements.txt (line 1)) (10.2.10.91)\n",
            "Requirement already satisfied: nvidia-cusolver-cu11==11.4.0.1 in /usr/local/lib/python3.10/dist-packages (from torch==2.0.1->-r requirements.txt (line 1)) (11.4.0.1)\n",
            "Requirement already satisfied: nvidia-cusparse-cu11==11.7.4.91 in /usr/local/lib/python3.10/dist-packages (from torch==2.0.1->-r requirements.txt (line 1)) (11.7.4.91)\n",
            "Requirement already satisfied: nvidia-nccl-cu11==2.14.3 in /usr/local/lib/python3.10/dist-packages (from torch==2.0.1->-r requirements.txt (line 1)) (2.14.3)\n",
            "Requirement already satisfied: nvidia-nvtx-cu11==11.7.91 in /usr/local/lib/python3.10/dist-packages (from torch==2.0.1->-r requirements.txt (line 1)) (11.7.91)\n",
            "Requirement already satisfied: triton==2.0.0 in /usr/local/lib/python3.10/dist-packages (from torch==2.0.1->-r requirements.txt (line 1)) (2.0.0)\n",
            "Requirement already satisfied: numpy>=1.17.2 in /usr/local/lib/python3.10/dist-packages (from torchmetrics==0.11.4->-r requirements.txt (line 4)) (1.25.2)\n",
            "Requirement already satisfied: packaging in /usr/local/lib/python3.10/dist-packages (from torchmetrics==0.11.4->-r requirements.txt (line 4)) (24.0)\n",
            "Requirement already satisfied: scipy>=1.7.1 in /usr/local/lib/python3.10/dist-packages (from mne==1.6.0->-r requirements.txt (line 6)) (1.11.4)\n",
            "Requirement already satisfied: matplotlib>=3.5.0 in /usr/local/lib/python3.10/dist-packages (from mne==1.6.0->-r requirements.txt (line 6)) (3.7.1)\n",
            "Requirement already satisfied: tqdm in /usr/local/lib/python3.10/dist-packages (from mne==1.6.0->-r requirements.txt (line 6)) (4.66.4)\n",
            "Requirement already satisfied: pooch>=1.5 in /usr/local/lib/python3.10/dist-packages (from mne==1.6.0->-r requirements.txt (line 6)) (1.8.1)\n",
            "Requirement already satisfied: decorator in /usr/local/lib/python3.10/dist-packages (from mne==1.6.0->-r requirements.txt (line 6)) (4.4.2)\n",
            "Requirement already satisfied: lazy-loader>=0.3 in /usr/local/lib/python3.10/dist-packages (from mne==1.6.0->-r requirements.txt (line 6)) (0.4)\n",
            "Requirement already satisfied: defusedxml in /usr/local/lib/python3.10/dist-packages (from mne==1.6.0->-r requirements.txt (line 6)) (0.7.1)\n",
            "Requirement already satisfied: omegaconf<2.4,>=2.2 in /usr/local/lib/python3.10/dist-packages (from hydra-core==1.3.2->-r requirements.txt (line 7)) (2.3.0)\n",
            "Requirement already satisfied: antlr4-python3-runtime==4.9.* in /usr/local/lib/python3.10/dist-packages (from hydra-core==1.3.2->-r requirements.txt (line 7)) (4.9.3)\n",
            "Requirement already satisfied: Click!=8.0.0,>=7.0 in /usr/local/lib/python3.10/dist-packages (from wandb==0.15.0->-r requirements.txt (line 8)) (8.1.7)\n",
            "Requirement already satisfied: GitPython!=3.1.29,>=1.0.0 in /usr/local/lib/python3.10/dist-packages (from wandb==0.15.0->-r requirements.txt (line 8)) (3.1.43)\n",
            "Requirement already satisfied: requests<3,>=2.0.0 in /usr/local/lib/python3.10/dist-packages (from wandb==0.15.0->-r requirements.txt (line 8)) (2.31.0)\n",
            "Requirement already satisfied: psutil>=5.0.0 in /usr/local/lib/python3.10/dist-packages (from wandb==0.15.0->-r requirements.txt (line 8)) (5.9.5)\n",
            "Requirement already satisfied: sentry-sdk>=1.0.0 in /usr/local/lib/python3.10/dist-packages (from wandb==0.15.0->-r requirements.txt (line 8)) (2.5.1)\n",
            "Requirement already satisfied: docker-pycreds>=0.4.0 in /usr/local/lib/python3.10/dist-packages (from wandb==0.15.0->-r requirements.txt (line 8)) (0.4.0)\n",
            "Requirement already satisfied: PyYAML in /usr/local/lib/python3.10/dist-packages (from wandb==0.15.0->-r requirements.txt (line 8)) (6.0.1)\n",
            "Requirement already satisfied: pathtools in /usr/local/lib/python3.10/dist-packages (from wandb==0.15.0->-r requirements.txt (line 8)) (0.1.2)\n",
            "Requirement already satisfied: setproctitle in /usr/local/lib/python3.10/dist-packages (from wandb==0.15.0->-r requirements.txt (line 8)) (1.3.3)\n",
            "Requirement already satisfied: setuptools in /usr/local/lib/python3.10/dist-packages (from wandb==0.15.0->-r requirements.txt (line 8)) (67.7.2)\n",
            "Requirement already satisfied: appdirs>=1.4.3 in /usr/local/lib/python3.10/dist-packages (from wandb==0.15.0->-r requirements.txt (line 8)) (1.4.4)\n",
            "Requirement already satisfied: protobuf!=4.21.0,<5,>=3.19.0 in /usr/local/lib/python3.10/dist-packages (from wandb==0.15.0->-r requirements.txt (line 8)) (3.20.3)\n",
            "Requirement already satisfied: wheel in /usr/local/lib/python3.10/dist-packages (from nvidia-cublas-cu11==11.10.3.66->torch==2.0.1->-r requirements.txt (line 1)) (0.43.0)\n",
            "Requirement already satisfied: cmake in /usr/local/lib/python3.10/dist-packages (from triton==2.0.0->torch==2.0.1->-r requirements.txt (line 1)) (3.27.9)\n",
            "Requirement already satisfied: lit in /usr/local/lib/python3.10/dist-packages (from triton==2.0.0->torch==2.0.1->-r requirements.txt (line 1)) (18.1.7)\n",
            "Requirement already satisfied: pillow!=8.3.*,>=5.3.0 in /usr/local/lib/python3.10/dist-packages (from torchvision->-r requirements.txt (line 3)) (9.4.0)\n",
            "Requirement already satisfied: six>=1.4.0 in /usr/local/lib/python3.10/dist-packages (from docker-pycreds>=0.4.0->wandb==0.15.0->-r requirements.txt (line 8)) (1.16.0)\n",
            "Requirement already satisfied: gitdb<5,>=4.0.1 in /usr/local/lib/python3.10/dist-packages (from GitPython!=3.1.29,>=1.0.0->wandb==0.15.0->-r requirements.txt (line 8)) (4.0.11)\n",
            "Requirement already satisfied: contourpy>=1.0.1 in /usr/local/lib/python3.10/dist-packages (from matplotlib>=3.5.0->mne==1.6.0->-r requirements.txt (line 6)) (1.2.1)\n",
            "Requirement already satisfied: cycler>=0.10 in /usr/local/lib/python3.10/dist-packages (from matplotlib>=3.5.0->mne==1.6.0->-r requirements.txt (line 6)) (0.12.1)\n",
            "Requirement already satisfied: fonttools>=4.22.0 in /usr/local/lib/python3.10/dist-packages (from matplotlib>=3.5.0->mne==1.6.0->-r requirements.txt (line 6)) (4.53.0)\n",
            "Requirement already satisfied: kiwisolver>=1.0.1 in /usr/local/lib/python3.10/dist-packages (from matplotlib>=3.5.0->mne==1.6.0->-r requirements.txt (line 6)) (1.4.5)\n",
            "Requirement already satisfied: pyparsing>=2.3.1 in /usr/local/lib/python3.10/dist-packages (from matplotlib>=3.5.0->mne==1.6.0->-r requirements.txt (line 6)) (3.1.2)\n",
            "Requirement already satisfied: python-dateutil>=2.7 in /usr/local/lib/python3.10/dist-packages (from matplotlib>=3.5.0->mne==1.6.0->-r requirements.txt (line 6)) (2.8.2)\n",
            "Requirement already satisfied: platformdirs>=2.5.0 in /usr/local/lib/python3.10/dist-packages (from pooch>=1.5->mne==1.6.0->-r requirements.txt (line 6)) (4.2.2)\n",
            "Requirement already satisfied: charset-normalizer<4,>=2 in /usr/local/lib/python3.10/dist-packages (from requests<3,>=2.0.0->wandb==0.15.0->-r requirements.txt (line 8)) (3.3.2)\n",
            "Requirement already satisfied: idna<4,>=2.5 in /usr/local/lib/python3.10/dist-packages (from requests<3,>=2.0.0->wandb==0.15.0->-r requirements.txt (line 8)) (3.7)\n",
            "Requirement already satisfied: urllib3<3,>=1.21.1 in /usr/local/lib/python3.10/dist-packages (from requests<3,>=2.0.0->wandb==0.15.0->-r requirements.txt (line 8)) (2.0.7)\n",
            "Requirement already satisfied: certifi>=2017.4.17 in /usr/local/lib/python3.10/dist-packages (from requests<3,>=2.0.0->wandb==0.15.0->-r requirements.txt (line 8)) (2024.6.2)\n",
            "Requirement already satisfied: MarkupSafe>=2.0 in /usr/local/lib/python3.10/dist-packages (from jinja2->torch==2.0.1->-r requirements.txt (line 1)) (2.1.5)\n",
            "Requirement already satisfied: mpmath<1.4.0,>=1.1.0 in /usr/local/lib/python3.10/dist-packages (from sympy->torch==2.0.1->-r requirements.txt (line 1)) (1.3.0)\n",
            "Requirement already satisfied: smmap<6,>=3.0.1 in /usr/local/lib/python3.10/dist-packages (from gitdb<5,>=4.0.1->GitPython!=3.1.29,>=1.0.0->wandb==0.15.0->-r requirements.txt (line 8)) (5.0.1)\n"
          ]
        }
      ]
    },
    {
      "cell_type": "code",
      "source": [
        "!pip install omegaconf"
      ],
      "metadata": {
        "colab": {
          "base_uri": "https://localhost:8080/"
        },
        "id": "iVWmSrLQCkYR",
        "outputId": "1e4ed78c-56b5-4f4c-ddfd-60afcc3e8fb3"
      },
      "execution_count": 5,
      "outputs": [
        {
          "output_type": "stream",
          "name": "stdout",
          "text": [
            "Requirement already satisfied: omegaconf in /usr/local/lib/python3.10/dist-packages (2.3.0)\n",
            "Requirement already satisfied: antlr4-python3-runtime==4.9.* in /usr/local/lib/python3.10/dist-packages (from omegaconf) (4.9.3)\n",
            "Requirement already satisfied: PyYAML>=5.1.0 in /usr/local/lib/python3.10/dist-packages (from omegaconf) (6.0.1)\n"
          ]
        }
      ]
    },
    {
      "cell_type": "code",
      "source": [
        "import os, sys\n",
        "import numpy as np\n",
        "import torch\n",
        "import torch.nn.functional as F\n",
        "from torchmetrics import Accuracy\n",
        "import hydra\n",
        "from omegaconf import DictConfig\n",
        "import wandb\n",
        "from termcolor import cprint\n",
        "from tqdm import tqdm"
      ],
      "metadata": {
        "id": "_E5WvF8vLktc"
      },
      "execution_count": 6,
      "outputs": []
    },
    {
      "cell_type": "code",
      "source": [
        "# カレントディレクトリを変更\n",
        "os.chdir('/content/drive/MyDrive/DL基礎2024/4_最終課題/git-fed/MEG-competition/src')\n",
        "sys.path.append('/content/drive/MyDrive/DL基礎2024/4_最終課題/git-fed/MEG-competition/src')"
      ],
      "metadata": {
        "id": "WPZPki-484sK"
      },
      "execution_count": 7,
      "outputs": []
    },
    {
      "cell_type": "code",
      "source": [
        "# モジュールの相対インポート\n",
        "from datasets import ThingsMEGDataset\n",
        "from models import BasicConvClassifier\n",
        "from utils import set_seed"
      ],
      "metadata": {
        "id": "Hyu54YcZOng0"
      },
      "execution_count": 8,
      "outputs": []
    },
    {
      "cell_type": "code",
      "source": [
        "@hydra.main(version_base=None, config_path=\"configs\", config_name=\"config\")\n",
        "def run(args: DictConfig):\n",
        "    set_seed(args.seed)\n",
        "    logdir = hydra.core.hydra_config.HydraConfig.get().runtime.output_dir\n",
        "\n",
        "    if args.use_wandb:\n",
        "        wandb.init(mode=\"online\", dir=logdir, project=\"MEG-classification\")\n",
        "\n",
        "    # ------------------\n",
        "    #    Dataloader\n",
        "    # ------------------\n",
        "    loader_args = {\"batch_size\": args.batch_size, \"num_workers\": args.num_workers}\n",
        "\n",
        "    train_set = ThingsMEGDataset(\"train\", args.data_dir)\n",
        "    train_loader = torch.utils.data.DataLoader(train_set, shuffle=True, **loader_args)\n",
        "    val_set = ThingsMEGDataset(\"val\", args.data_dir)\n",
        "    val_loader = torch.utils.data.DataLoader(val_set, shuffle=False, **loader_args)\n",
        "    test_set = ThingsMEGDataset(\"test\", args.data_dir)\n",
        "    test_loader = torch.utils.data.DataLoader(\n",
        "        test_set, shuffle=False, batch_size=args.batch_size, num_workers=args.num_workers\n",
        "    )\n",
        "\n",
        "    # ------------------\n",
        "    #       Model\n",
        "    # ------------------\n",
        "    model = BasicConvClassifier(\n",
        "        train_set.num_classes, train_set.seq_len, train_set.num_channels\n",
        "    ).to(args.device)\n",
        "\n",
        "    # ------------------\n",
        "    #     Optimizer\n",
        "    # ------------------\n",
        "    optimizer = torch.optim.Adam(model.parameters(), lr=args.lr)\n",
        "\n",
        "    # ------------------\n",
        "    #   Start training\n",
        "    # ------------------\n",
        "    max_val_acc = 0\n",
        "    accuracy = Accuracy(\n",
        "        task=\"multiclass\", num_classes=train_set.num_classes, top_k=10\n",
        "    ).to(args.device)\n",
        "\n",
        "    for epoch in range(args.epochs):\n",
        "        print(f\"Epoch {epoch+1}/{args.epochs}\")\n",
        "\n",
        "        train_loss, train_acc, val_loss, val_acc = [], [], [], []\n",
        "\n",
        "        model.train()\n",
        "        for X, y, subject_idxs in tqdm(train_loader, desc=\"Train\"):\n",
        "            X, y = X.to(args.device), y.to(args.device)\n",
        "\n",
        "            y_pred = model(X)\n",
        "\n",
        "            loss = F.cross_entropy(y_pred, y)\n",
        "            train_loss.append(loss.item())\n",
        "\n",
        "            optimizer.zero_grad()\n",
        "            loss.backward()\n",
        "            optimizer.step()\n",
        "\n",
        "            acc = accuracy(y_pred, y)\n",
        "            train_acc.append(acc.item())\n",
        "\n",
        "        model.eval()\n",
        "        for X, y, subject_idxs in tqdm(val_loader, desc=\"Validation\"):\n",
        "            X, y = X.to(args.device), y.to(args.device)\n",
        "\n",
        "            with torch.no_grad():\n",
        "                y_pred = model(X)\n",
        "\n",
        "            val_loss.append(F.cross_entropy(y_pred, y).item())\n",
        "            val_acc.append(accuracy(y_pred, y).item())\n",
        "\n",
        "        print(f\"Epoch {epoch+1}/{args.epochs} | train loss: {np.mean(train_loss):.3f} | train acc: {np.mean(train_acc):.3f} | val loss: {np.mean(val_loss):.3f} | val acc: {np.mean(val_acc):.3f}\")\n",
        "        torch.save(model.state_dict(), os.path.join(logdir, \"model_last.pt\"))\n",
        "        if args.use_wandb:\n",
        "            wandb.log({\"train_loss\": np.mean(train_loss), \"train_acc\": np.mean(train_acc), \"val_loss\": np.mean(val_loss), \"val_acc\": np.mean(val_acc)})\n",
        "\n",
        "        if np.mean(val_acc) > max_val_acc:\n",
        "            cprint(\"New best.\", \"cyan\")\n",
        "            torch.save(model.state_dict(), os.path.join(logdir, \"model_best.pt\"))\n",
        "            max_val_acc = np.mean(val_acc)\n",
        "\n",
        "\n",
        "    # ----------------------------------\n",
        "    #  Start evaluation with best model\n",
        "    # ----------------------------------\n",
        "    model.load_state_dict(torch.load(os.path.join(logdir, \"model_best.pt\"), map_location=args.device))\n",
        "\n",
        "    preds = []\n",
        "    model.eval()\n",
        "    for X, subject_idxs in tqdm(test_loader, desc=\"Validation\"):\n",
        "        preds.append(model(X.to(args.device)).detach().cpu())\n",
        "\n",
        "    preds = torch.cat(preds, dim=0).numpy()\n",
        "    np.save(os.path.join(logdir, \"submission\"), preds)\n",
        "    cprint(f\"Submission {preds.shape} saved at {logdir}\", \"cyan\")\n",
        "\n",
        "\n"
      ],
      "metadata": {
        "id": "G6qzUUv0B_Ud"
      },
      "execution_count": 9,
      "outputs": []
    },
    {
      "cell_type": "code",
      "source": [
        "if __name__ == \"__main__\":\n",
        "    run()"
      ],
      "metadata": {
        "colab": {
          "base_uri": "https://localhost:8080/",
          "height": 283
        },
        "id": "jGxNGftTEn-u",
        "outputId": "acd53ebb-34ce-414d-c6b8-29b2cd199f4c"
      },
      "execution_count": 10,
      "outputs": [
        {
          "output_type": "stream",
          "name": "stderr",
          "text": [
            "usage: colab_kernel_launcher.py [--help] [--hydra-help] [--version] [--cfg {job,hydra,all}]\n",
            "                                [--resolve] [--package PACKAGE] [--run] [--multirun]\n",
            "                                [--shell-completion] [--config-path CONFIG_PATH]\n",
            "                                [--config-name CONFIG_NAME] [--config-dir CONFIG_DIR]\n",
            "                                [--experimental-rerun EXPERIMENTAL_RERUN]\n",
            "                                [--info [{all,config,defaults,defaults-tree,plugins,searchpath}]]\n",
            "                                [overrides ...]\n",
            "colab_kernel_launcher.py: error: unrecognized arguments: -f\n"
          ]
        },
        {
          "output_type": "error",
          "ename": "SystemExit",
          "evalue": "2",
          "traceback": [
            "An exception has occurred, use %tb to see the full traceback.\n",
            "\u001b[0;31mSystemExit\u001b[0m\u001b[0;31m:\u001b[0m 2\n"
          ]
        },
        {
          "output_type": "stream",
          "name": "stderr",
          "text": [
            "/usr/local/lib/python3.10/dist-packages/IPython/core/interactiveshell.py:3561: UserWarning: To exit: use 'exit', 'quit', or Ctrl-D.\n",
            "  warn(\"To exit: use 'exit', 'quit', or Ctrl-D.\", stacklevel=1)\n"
          ]
        }
      ]
    }
  ]
}